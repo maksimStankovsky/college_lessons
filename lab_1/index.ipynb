from datetime import datetime
name = "Makssim"

print(f"{name} start programming at {datetime.now()}")