from datetime import datetime
name = "Maksim"

print(f"{name} start programming at {datetime.now()}")
