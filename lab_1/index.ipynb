{
    "cells": [
      {
        "cell_type": "code",
        "execution_count": 2,
        "metadata": {      },
        "outputs": [
          {
            "name": "stdout",
            "output_type": "stream",
            "text": [
              "Maksim start programming at 2022-11-18 23:45:18.663670\n"
            ]
          }
        ],
        "source": [
          "from datetime import datetime\n",
          "name = \"Maksim\"\n",
          "\n",
          "print(f\"{name} start programming at {datetime.now()}\")"
        ]
      }
    ],
    "metadata": {
      "kernelspec": {
        "display_name": "Python 3.11.0 64-bit",
        "language": "python",
        "name": "python3"
      },
      "language_info": {
        "codemirror_mode": {
          "name": "ipython",
          "version": 3
        },
        "file_extension": ".py",
        "mimetype": "text/x-python",
        "name": "python",
        "nbconvert_exporter": "python",
        "pygments_lexer": "ipython3",
        "version": "3.11.0"
      },
      "orig_nbformat": 4,
      "vscode": {
        "interpreter": {
          "hash": "de47f5c92c0ee6f12a59a5613ac5feff6aab19ddff207ba0b3964cced08c4ccc"
        }
      }
    },
    "nbformat": 4,
    "nbformat_minor": 2
}
